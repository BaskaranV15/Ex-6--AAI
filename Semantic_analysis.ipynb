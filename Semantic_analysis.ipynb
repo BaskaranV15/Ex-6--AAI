{
  "nbformat": 4,
  "nbformat_minor": 0,
  "metadata": {
    "colab": {
      "provenance": [],
      "authorship_tag": "ABX9TyMvbRUPKtW9V1rKIAdpHJDD",
      "include_colab_link": true
    },
    "kernelspec": {
      "name": "python3",
      "display_name": "Python 3"
    },
    "language_info": {
      "name": "python"
    }
  },
  "cells": [
    {
      "cell_type": "markdown",
      "metadata": {
        "id": "view-in-github",
        "colab_type": "text"
      },
      "source": [
        "<a href=\"https://colab.research.google.com/github/BaskaranV15/Ex-6--AAI/blob/main/Semantic_analysis.ipynb\" target=\"_parent\"><img src=\"https://colab.research.google.com/assets/colab-badge.svg\" alt=\"Open In Colab\"/></a>"
      ]
    },
    {
      "cell_type": "code",
      "source": [
        "import nltk"
      ],
      "metadata": {
        "id": "AdRKOJ6ZFNZH"
      },
      "execution_count": 1,
      "outputs": []
    },
    {
      "cell_type": "code",
      "source": [
        "nltk.download('punkt')\n",
        "from nltk.tokenize import word_tokenize\n",
        "nltk.download('averaged_perceptron_tagger')\n",
        "sentence=input()\n",
        "words=word_tokenize(sentence)\n",
        "pos_tags=nltk.pos_tag(words)\n",
        "for word,tag in pos_tags:\n",
        "  print(word,tag)"
      ],
      "metadata": {
        "colab": {
          "base_uri": "https://localhost:8080/"
        },
        "id": "nNal9RpyFu_N",
        "outputId": "2aff9d39-1590-4dc6-f254-478450618038"
      },
      "execution_count": 2,
      "outputs": [
        {
          "output_type": "stream",
          "name": "stderr",
          "text": [
            "[nltk_data] Downloading package punkt to /root/nltk_data...\n",
            "[nltk_data]   Unzipping tokenizers/punkt.zip.\n",
            "[nltk_data] Downloading package averaged_perceptron_tagger to\n",
            "[nltk_data]     /root/nltk_data...\n",
            "[nltk_data]   Unzipping taggers/averaged_perceptron_tagger.zip.\n"
          ]
        },
        {
          "output_type": "stream",
          "name": "stdout",
          "text": [
            "ramu is human being\n",
            "ramu NN\n",
            "is VBZ\n",
            "human JJ\n",
            "being VBG\n"
          ]
        }
      ]
    },
    {
      "cell_type": "code",
      "source": [
        "from nltk.corpus import wordnet"
      ],
      "metadata": {
        "id": "tXKvasFpzmwK"
      },
      "execution_count": 3,
      "outputs": []
    },
    {
      "cell_type": "code",
      "source": [
        "nltk.download('wordnet')"
      ],
      "metadata": {
        "colab": {
          "base_uri": "https://localhost:8080/"
        },
        "id": "5XTMwLIiIU6_",
        "outputId": "5d1ee540-3e22-4811-cfda-df99364dbc71"
      },
      "execution_count": 5,
      "outputs": [
        {
          "output_type": "stream",
          "name": "stderr",
          "text": [
            "[nltk_data] Downloading package wordnet to /root/nltk_data...\n"
          ]
        },
        {
          "output_type": "execute_result",
          "data": {
            "text/plain": [
              "True"
            ]
          },
          "metadata": {},
          "execution_count": 5
        }
      ]
    },
    {
      "cell_type": "code",
      "source": [
        "synonyms=[]\n",
        "antonyms=[]\n",
        "for word in words:\n",
        "  for syn in wordnet.synsets(word):\n",
        "    for lemma in syn.lemmas():\n",
        "      synonyms.append(lemma.name())\n",
        "      if lemma.antonyms():\n",
        "        antonyms.append(lemma.antonyms()[0].name())\n",
        "\n",
        "print(\"Synonyms:\",set(synonyms))\n",
        "print(\"antonyms\",set(antonyms))"
      ],
      "metadata": {
        "id": "amhOUpf6HDmS",
        "colab": {
          "base_uri": "https://localhost:8080/"
        },
        "outputId": "e9b7ea4c-893c-48ab-83ea-420230972eea"
      },
      "execution_count": 8,
      "outputs": [
        {
          "output_type": "stream",
          "name": "stdout",
          "text": [
            "Synonyms: {'be', 'human', 'comprise', 'embody', 'cost', 'exist', 'beingness', 'human_being', 'existence', 'live', 'organism', 'being', 'equal', 'make_up', 'represent', 'personify', 'man', 'follow', 'constitute', 'homo'}\n",
            "antonyms {'nonhuman', 'nonbeing', 'differ', 'nonexistence'}\n"
          ]
        }
      ]
    }
  ]
}